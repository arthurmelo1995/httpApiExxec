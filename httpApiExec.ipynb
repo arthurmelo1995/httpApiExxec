{
 "cells": [
  {
   "cell_type": "markdown",
   "id": "e0f8f0bc-8edd-4c07-81ea-5b56486ea70a",
   "metadata": {},
   "source": [
    "# Instalando Scrapy"
   ]
  },
  {
   "cell_type": "code",
   "execution_count": null,
   "id": "87a4b6ed-ed34-4ecf-9997-d7d8e20678b7",
   "metadata": {},
   "outputs": [],
   "source": [
    "pip install scrapy"
   ]
  },
  {
   "cell_type": "code",
   "execution_count": 14,
   "id": "49026f3b-b5cd-4110-bab3-20dd9b0c54d2",
   "metadata": {},
   "outputs": [],
   "source": [
    "import scrapy\n",
    "\n",
    "class WikiSpider(scrapy.Spider):\n",
    "    name = \"wiki_spider\"\n",
    "    start_urls = [\n",
    "        'https://en.wikipedia.org/wiki/Web_scraping'\n",
    "    ]\n",
    "\n",
    "    def parse(self, response):\n",
    "        page_title = response.css('h1#firstHeading::text').get()\n",
    "        print(f\"Página principal: {page_title}\")\n",
    "\n",
    "        links = response.css('div.mw-parser-output a::attr(href)').re(r'^/wiki/[^:]+$')\n",
    "        for link in links:\n",
    "            yield response.follow(link, self.parse_secondary)\n",
    "    \n",
    "    def parse_secondary(self, response):\n",
    "        \n",
    "        page_title = response.css('h1#firstHeading::text').get()\n",
    "        print(f\"Página secundária: {page_title}\")"
   ]
  }
 ],
 "metadata": {
  "kernelspec": {
   "display_name": "Python 3 (ipykernel)",
   "language": "python",
   "name": "python3"
  },
  "language_info": {
   "codemirror_mode": {
    "name": "ipython",
    "version": 3
   },
   "file_extension": ".py",
   "mimetype": "text/x-python",
   "name": "python",
   "nbconvert_exporter": "python",
   "pygments_lexer": "ipython3",
   "version": "3.11.7"
  }
 },
 "nbformat": 4,
 "nbformat_minor": 5
}
